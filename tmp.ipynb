{
 "cells": [
  {
   "cell_type": "code",
   "execution_count": null,
   "metadata": {},
   "outputs": [],
   "source": [
    "def create_preprocessor():\n",
    "    # Identifying categorical and numerical columns\n",
    "    categorical_cols = ['col1', 'col2', 'col3']  # Replace with your actual categorical columns\n",
    "    numerical_cols = ['num1', 'num2', 'num3']    # Replace with your actual numerical columns\n",
    "    \n",
    "    # Preprocessing for numerical data\n",
    "    numerical_transformer = Pipeline(steps=[\n",
    "        ('imputer', SimpleImputer(strategy='mean')),  # Handle missing values with mean imputation\n",
    "        ('scaler', StandardScaler())  # Standardize numerical features\n",
    "    ])\n",
    "\n",
    "    # Preprocessing for categorical data\n",
    "    categorical_transformer = Pipeline(steps=[\n",
    "        ('imputer', SimpleImputer(strategy='most_frequent')),  # Handle missing values with most frequent value\n",
    "        ('encoder', OneHotEncoder(handle_unknown='ignore'))  # Apply one-hot encoding to categorical features\n",
    "    ])\n",
    "    \n",
    "    # Combining both transformers into a single column transformer\n",
    "    preprocessor = ColumnTransformer(\n",
    "        transformers=[\n",
    "            ('num', numerical_transformer, numerical_cols),\n",
    "            ('cat', categorical_transformer, categorical_cols)\n",
    "        ]\n",
    "    )"
   ]
  }
 ],
 "metadata": {
  "language_info": {
   "name": "python"
  }
 },
 "nbformat": 4,
 "nbformat_minor": 2
}
